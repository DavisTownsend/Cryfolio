{
 "cells": [
  {
   "cell_type": "code",
   "execution_count": null,
   "metadata": {
    "ExecuteTime": {
     "end_time": "2017-12-21T15:26:41.985656Z",
     "start_time": "2017-12-21T15:26:41.979684Z"
    },
    "collapsed": true,
    "extensions": {
     "jupyter_dashboards": {
      "version": 1,
      "views": {
       "grid_default": {
        "hidden": true
       },
       "report_default": {}
      }
     }
    }
   },
   "outputs": [],
   "source": [
    "binance_api_key = '<your api key here>'\n",
    "binance_api_secret = '<your api secret here>'"
   ]
  },
  {
   "cell_type": "code",
   "execution_count": null,
   "metadata": {
    "collapsed": true
   },
   "outputs": [],
   "source": [
    "#this just makes the notebook take up most of your screen\n",
    "from IPython.core.display import display, HTML\n",
    "display(HTML(\"<style>.container { width:90% !important; }</style>\"))"
   ]
  },
  {
   "cell_type": "code",
   "execution_count": null,
   "metadata": {
    "ExecuteTime": {
     "end_time": "2017-12-21T15:26:51.084448Z",
     "start_time": "2017-12-21T15:26:43.036395Z"
    },
    "collapsed": true,
    "extensions": {
     "jupyter_dashboards": {
      "version": 1,
      "views": {
       "grid_default": {
        "col": 0,
        "height": 4,
        "hidden": true,
        "row": 0,
        "width": 4
       },
       "report_default": {}
      }
     }
    }
   },
   "outputs": [],
   "source": [
    "import pandas as pd\n",
    "from numpy import pi\n",
    "import numpy as np\n",
    "import holoviews as hv\n",
    "from coinmarketcap import Market\n",
    "from datetime import datetime\n",
    "\n",
    "from random import shuffle\n",
    "from math import sin,cos\n",
    "from bokeh.plotting import ColumnDataSource,output_notebook,figure, show\n",
    "from bokeh.models import HoverTool,Text\n",
    "from bokeh import palettes\n",
    "import time\n",
    "\n",
    "from plotly import __version__\n",
    "from plotly.offline import download_plotlyjs, init_notebook_mode, plot, iplot\n",
    "import cufflinks as cf\n",
    "cf.set_config_file(offline=True)\n",
    "init_notebook_mode(connected=True)\n",
    "\n",
    "from ipywidgets import interact\n",
    "import ipywidgets as widgets\n",
    "\n",
    "output_notebook()\n",
    "hv.extension('bokeh', 'matplotlib')\n",
    "\n",
    "from binance.client import Client\n",
    "client = Client(binance_api_key, binance_api_secret)"
   ]
  },
  {
   "cell_type": "code",
   "execution_count": null,
   "metadata": {
    "ExecuteTime": {
     "end_time": "2017-12-21T15:22:55.283596Z",
     "start_time": "2017-12-21T15:22:54.965Z"
    },
    "collapsed": true
   },
   "outputs": [],
   "source": [
    "#this snippet usually resolves binance server timing issue\n",
    "client = Client(binance_api_key, binance_api_secret)\n",
    "int(time.time() * 1000) - client.get_server_time()['serverTime']"
   ]
  },
  {
   "cell_type": "code",
   "execution_count": null,
   "metadata": {
    "ExecuteTime": {
     "end_time": "2017-12-21T15:26:51.517448Z",
     "start_time": "2017-12-21T15:26:51.114475Z"
    },
    "collapsed": true,
    "extensions": {
     "jupyter_dashboards": {
      "version": 1,
      "views": {
       "grid_default": {
        "col": 4,
        "height": 12,
        "hidden": true,
        "row": 0,
        "width": 4
       },
       "report_default": {}
      }
     }
    }
   },
   "outputs": [],
   "source": [
    "#get account coin balances\n",
    "order = client.get_account()\n",
    "#convert list of dictionaries to pandas df\n",
    "coin_df = pd.DataFrame(order['balances'])\n",
    "#convert free and locked columns to numeric\n",
    "coin_df[['free','locked']] = coin_df[['free','locked']].apply(pd.to_numeric)\n",
    "#drop rows where all columns are less than or equal to 0\n",
    "coin_df = coin_df.loc[~(coin_df<=0.0).all(axis=1)]\n",
    "#add Total column to dataframe\n",
    "coin_df['Total'] = coin_df['free'] + coin_df['locked']\n",
    "#replace IOTA with MIOTA so that symbols match\n",
    "coin_df.loc[coin_df.asset == 'IOTA', 'asset'] = 'MIOTA'"
   ]
  },
  {
   "cell_type": "code",
   "execution_count": null,
   "metadata": {
    "ExecuteTime": {
     "end_time": "2017-12-21T15:26:53.097107Z",
     "start_time": "2017-12-21T15:26:52.941441Z"
    },
    "collapsed": true,
    "extensions": {
     "jupyter_dashboards": {
      "version": 1,
      "views": {
       "grid_default": {
        "hidden": true
       },
       "report_default": {}
      }
     }
    }
   },
   "outputs": [],
   "source": [
    "coinmarketcap = Market()\n",
    "prices = coinmarketcap.ticker(limit=1000, convert='USD')\n",
    "prices_df = pd.DataFrame(prices)\n",
    "#grabs prices from coinmarketcap\n",
    "prices_df.head()"
   ]
  },
  {
   "cell_type": "code",
   "execution_count": null,
   "metadata": {
    "ExecuteTime": {
     "end_time": "2017-12-21T15:26:53.825573Z",
     "start_time": "2017-12-21T15:26:53.749573Z"
    },
    "collapsed": true,
    "extensions": {
     "jupyter_dashboards": {
      "version": 1,
      "views": {
       "grid_default": {
        "col": 0,
        "height": 14,
        "hidden": true,
        "row": 0,
        "width": 12
       },
       "report_default": {}
      }
     }
    }
   },
   "outputs": [],
   "source": [
    "full_df  = pd.merge(coin_df, prices_df, left_on='asset',right_on='symbol',how='inner')\n",
    "full_df['price_usd'] = full_df['price_usd'].apply(pd.to_numeric)\n",
    "full_df['percent_change_1h'] = full_df['percent_change_1h'].apply(pd.to_numeric)\n",
    "full_df['percent_change_24h'] = full_df['percent_change_24h'].apply(pd.to_numeric)\n",
    "full_df['percent_change_7d'] = full_df['percent_change_7d'].apply(pd.to_numeric)\n",
    "full_df['estimated_holding_USD'] = full_df['price_usd'] * full_df['Total']\n",
    "full_df = full_df.sort_values(by=['estimated_holding_USD'],ascending=False)\n",
    "full_df = full_df[['asset', 'free', 'locked', 'Total', '24h_volume_usd',\n",
    "       'available_supply', 'id', 'market_cap_usd',\n",
    "       'max_supply', 'name', 'percent_change_1h', 'percent_change_24h',\n",
    "       'percent_change_7d', 'price_btc', 'price_usd', 'rank', 'symbol',\n",
    "       'total_supply', 'estimated_holding_USD']]"
   ]
  },
  {
   "cell_type": "code",
   "execution_count": null,
   "metadata": {
    "ExecuteTime": {
     "end_time": "2017-12-21T15:27:04.452310Z",
     "start_time": "2017-12-21T15:27:03.941304Z"
    },
    "collapsed": true,
    "extensions": {
     "jupyter_dashboards": {
      "version": 1,
      "views": {
       "grid_default": {
        "col": 8,
        "height": 4,
        "hidden": true,
        "row": 0,
        "width": 4
       },
       "report_default": {}
      }
     }
    }
   },
   "outputs": [],
   "source": [
    "class CustomPieBuilder:\n",
    "    \n",
    "    \"\"\"\n",
    "    custom pie chart builder for portfolio allocation, thanks to the random guy from stackoverflow I stole this from, it's great\n",
    "    \"\"\"\n",
    "    green =\"#50ee70\"\n",
    "    red = \"#ff7070\"\n",
    "    x_range = 1.1\n",
    "    y_range = 1.1\n",
    "\n",
    "    def __init__(self,df,label_name,column_name,tools='hover',tooltips=None,\n",
    "                 reverse_color=False,colors=None,random_color_order=False,\n",
    "                 plot_width=400,plot_height=400,title='Untitled',*args,**kwargs):\n",
    "        p = self.setup_figure(tools,plot_width,plot_height,title)\n",
    "        df = self.add_columns_for_pie_chart(df,column_name,colors,reverse_color,random_color_order)\n",
    "        self.df = df\n",
    "        self.plot_pie(p,df,label_name,*args,**kwargs)\n",
    "        if tooltips:\n",
    "            self.set_hover_tooltip(p,tooltips)\n",
    "\n",
    "        self.add_text_label_on_pie(p,df,label_name)\n",
    "        self.plot = p\n",
    "\n",
    "    def setup_figure(self,tools,plot_width,plot_height,title):\n",
    "        p = figure(\n",
    "            x_range=(-self.x_range, self.x_range),\n",
    "            y_range=(-self.y_range, self.y_range),\n",
    "            tools=tools,\n",
    "            plot_width=plot_width,\n",
    "            plot_height=plot_height,\n",
    "            title=title,\n",
    "        )\n",
    "        p.axis.visible = False\n",
    "        p.xgrid.grid_line_color = None\n",
    "        p.ygrid.grid_line_color = None\n",
    "        return p\n",
    "\n",
    "    @staticmethod\n",
    "    def plot_pie(p,df,label_name,*args,**kwargs):\n",
    "        for key, _df in df.groupby(label_name):\n",
    "            source = ColumnDataSource(_df.to_dict(orient='list'))\n",
    "            p.annular_wedge(\n",
    "                x=0,\n",
    "                y=0,\n",
    "                inner_radius=0,\n",
    "                outer_radius=1,\n",
    "                start_angle='starts',\n",
    "                end_angle='ends',\n",
    "                color='colors',\n",
    "                source=source,\n",
    "                legend=key,\n",
    "                *args,**kwargs)\n",
    "\n",
    "    @staticmethod\n",
    "    def set_hover_tooltip(p,tooltips):\n",
    "        hover = p.select({'type':HoverTool})\n",
    "        hover.tooltips = tooltips\n",
    "\n",
    "    @staticmethod\n",
    "    def add_columns_for_pie_chart(df,column_name,colors=None,reverse_color=False,random_color_order=False):\n",
    "        r = 0.7\n",
    "        df = df.copy()\n",
    "        column_sum = df[column_name].sum()\n",
    "        df['percentage'] = (df[column_name]/column_sum)\n",
    "        percentages = [0]  + df['percentage'].cumsum().tolist()\n",
    "        df['starts'] = [p * 2 * pi for p in percentages[:-1]]\n",
    "        df['ends'] = [p * 2 * pi for p in percentages[1:]]\n",
    "\n",
    "        df['middle'] = (df['starts'] + df['ends'])/2\n",
    "        df['text_x'] = df['middle'].apply(cos)*r\n",
    "        df['text_y'] =df['middle'].apply(sin)*r \n",
    "        df['text_angle'] = 0.0\n",
    "\n",
    "        if colors:\n",
    "            df['colors'] = colors\n",
    "        else:\n",
    "            if 'colors' not in df:\n",
    "                reverse_color = -1 if reverse_color else 1\n",
    "                colors = palettes.viridis(len(df))[::reverse_color]\n",
    "                if random_color_order:\n",
    "                    shuffle(colors)\n",
    "                df['colors'] = colors\n",
    "        return df\n",
    "\n",
    "    @staticmethod\n",
    "    def add_text_label_on_pie(p,df,label_name):\n",
    "        source=ColumnDataSource(df.to_dict(orient='list'))\n",
    "        txt = Text(x=\"text_x\", y=\"text_y\", text=label_name, angle=\"text_angle\",\n",
    "               text_align=\"center\", text_baseline=\"middle\",\n",
    "               text_font_size='10pt',)\n",
    "        p.add_glyph(source,txt)\n",
    "\n",
    "def build_plot(df,label_name,column_name,tools='hover',tooltips=None,\n",
    "                 reverse_color=False,colors=None,random_color_order=False,\n",
    "                 plot_width=400,plot_height=400,title='Untitled',*args,**kwargs):\n",
    "\n",
    "    customPie = CustomPieBuilder(df,label_name,column_name,tools,tooltips,\n",
    "                 reverse_color,colors,random_color_order,\n",
    "                 plot_width,plot_height,title,*args,**kwargs)\n",
    "\n",
    "    return customPie.plot"
   ]
  },
  {
   "cell_type": "markdown",
   "metadata": {},
   "source": [
    "# Detailed summary of your holdings"
   ]
  },
  {
   "cell_type": "code",
   "execution_count": null,
   "metadata": {
    "collapsed": true
   },
   "outputs": [],
   "source": [
    "styled_full_df = full_df.style.bar(subset=['percent_change_1h', 'percent_change_24h','percent_change_7d'], align='mid', color=['#d65f5f', '#5fba7d'])\n",
    "styled_full_df"
   ]
  },
  {
   "cell_type": "markdown",
   "metadata": {},
   "source": [
    "# Portfolio Allocation"
   ]
  },
  {
   "cell_type": "code",
   "execution_count": null,
   "metadata": {
    "ExecuteTime": {
     "end_time": "2017-12-21T15:27:05.718319Z",
     "start_time": "2017-12-21T15:27:05.228310Z"
    },
    "collapsed": true,
    "extensions": {
     "jupyter_dashboards": {
      "version": 1,
      "views": {
       "grid_default": {
        "col": 4,
        "height": 24,
        "hidden": false,
        "row": 15,
        "width": 8
       },
       "report_default": {}
      }
     }
    }
   },
   "outputs": [],
   "source": [
    "p = build_plot(\n",
    "    full_df,\n",
    "    'symbol',\n",
    "    'estimated_holding_USD',\n",
    "    tooltips=[('percentage', '@percentage{0.00%}'), ('Coin', '@name'), ('Dollars','$'+'@estimated_holding_USD'),('Number Coins', '@Total')],\n",
    "    title='Portfolio Allocation in USD',\n",
    "    reverse_color=True,\n",
    "    random_color_order=True,\n",
    "    plot_height=900,\n",
    "    plot_width=950)\n",
    "\n",
    "print('Your total estimated holdings Binance in USD is: $',full_df['estimated_holding_USD'].sum())\n",
    "show(p)"
   ]
  },
  {
   "cell_type": "code",
   "execution_count": null,
   "metadata": {
    "collapsed": true,
    "scrolled": true
   },
   "outputs": [],
   "source": [
    "\n",
    "\n",
    "def get_historical_price_df(cryptocurrency='iota', start_date = '20130428', end_date = datetime.now().strftime('%Y%m%d')):\n",
    "    \n",
    "    \"\"\"gets historical prices and market cap of a particular cryptocurrency as a pandas df\n",
    "\n",
    "        Args:\n",
    "            cryptocurrency: full name of the cryptocurrency to pull\n",
    "\n",
    "        Returns:\n",
    "            historical_df: pandas df of historical data for the cryptocurrency\n",
    "    \"\"\"\n",
    "    \n",
    "    #we'll just take from 2013 up until current datetime\n",
    "    url_string = \"https://coinmarketcap.com/currencies/\" + cryptocurrency + '/historical-data/?start=' + start_date + '&end=' + end_date\n",
    "    historical_price_df = pd.read_html(url_string,parse_dates=['Date'])[0]\n",
    "    historical_price_df = historical_price_df.set_index('Date')\n",
    "    \n",
    "    return historical_price_df\n",
    "\n",
    "#get_historical_price_df('bitcoin-cash')"
   ]
  },
  {
   "cell_type": "markdown",
   "metadata": {},
   "source": [
    "# Coin Plotting\n",
    "\n",
    "### These are working graphs, still trying to figure out the best way to display this information"
   ]
  },
  {
   "cell_type": "code",
   "execution_count": null,
   "metadata": {
    "collapsed": true,
    "scrolled": true
   },
   "outputs": [],
   "source": [
    "#gets df of 1000 top coins\n",
    "all_prices = coinmarketcap.ticker(limit=1000, convert='USD')\n",
    "prices_df_all = pd.DataFrame(all_prices)\n",
    "prices_df_all.head()"
   ]
  },
  {
   "cell_type": "code",
   "execution_count": null,
   "metadata": {
    "collapsed": true
   },
   "outputs": [],
   "source": [
    "choose_crypto = widgets.Dropdown(\n",
    "    options=sorted(list(prices_df_all['id'])),\n",
    "    value='bitcoin',\n",
    "    description='Coin:',\n",
    "    disabled=False,\n",
    ")"
   ]
  },
  {
   "cell_type": "code",
   "execution_count": null,
   "metadata": {
    "collapsed": true
   },
   "outputs": [],
   "source": [
    "def dope_interactive_plot(crypto_chosen):\n",
    "    \"\"\"\n",
    "    temp function to use for interactive plotting until DASH app is done\n",
    "    \"\"\"\n",
    "    coin_OHLC_df = get_historical_price_df(crypto_chosen)\n",
    "    coin_OHLC_df.iplot(kind='candle',theme='solar',up_color='green',down_color='red',rangeselector={ 'steps':['5y','1yr', '3 months','3 weeks','ytd','reset'], 'bgcolor' : ('grey',.3), 'x': 0.01 , 'y' : 0.99},title='Candle')\n",
    "    \n",
    "    mid_graph = cf.QuantFig(coin_OHLC_df,title='Test Quant Figure',legend='top',name='GS')\n",
    "    mid_graph.add_sma([7,14],width=2,color=['darkblue','lightblue'],legendgroup=True)\n",
    "    mid_graph.iplot(kind='candle',up_color='green',down_color='red',rangeslider=True,theme='solar',title='SMA w/ range slider')\n",
    "    \n",
    "    bottom_graph = cf.QuantFig(coin_OHLC_df,title='Test Quant Figure',legend='top',name='GS')\n",
    "    bottom_graph.add_bollinger_bands(periods=7,boll_std=2,colors=['grey','magenta'],fill=True)\n",
    "    bottom_graph.add_volume()\n",
    "    bottom_graph.iplot(kind='ohlc',up_color='green',down_color='red',title='Bollanger Bands w/ Volume')"
   ]
  },
  {
   "cell_type": "code",
   "execution_count": null,
   "metadata": {
    "collapsed": true
   },
   "outputs": [],
   "source": [
    "interact(dope_interactive_plot,crypto_chosen=choose_crypto)"
   ]
  },
  {
   "cell_type": "code",
   "execution_count": null,
   "metadata": {
    "collapsed": true,
    "scrolled": true
   },
   "outputs": [],
   "source": [
    "def dope_interactive_plot2(crypto_chosen):\n",
    "    \"\"\"\n",
    "    temp function to use for interactive plotting until DASH app is done, 2nd one b/c of iopub limit\n",
    "    \"\"\"\n",
    "    coin_OHLC_df = get_historical_price_df(crypto_chosen)\n",
    "    \n",
    "    all_TA_graph = cf.QuantFig(coin_OHLC_df,title='Test Quant Figure',legend='top',name='GS')\n",
    "    all_TA_graph.add_bollinger_bands(periods=7,boll_std=2,colors=['grey','magenta'],fill=True)\n",
    "    all_TA_graph.add_macd()\n",
    "    all_TA_graph.add_volume(color='magenta')\n",
    "    all_TA_graph.add_rsi(periods=7,color='orange')\n",
    "    all_TA_graph.iplot(kind='candle',up_color='green',down_color='red',title='Technical Indicators')"
   ]
  },
  {
   "cell_type": "code",
   "execution_count": null,
   "metadata": {
    "collapsed": true
   },
   "outputs": [],
   "source": [
    "interact(dope_interactive_plot2,crypto_chosen=choose_crypto)"
   ]
  },
  {
   "cell_type": "code",
   "execution_count": null,
   "metadata": {
    "collapsed": true
   },
   "outputs": [],
   "source": [
    "choose_crypto1 = widgets.Dropdown(\n",
    "    options=sorted(list(prices_df_all['id'])),\n",
    "    value='ethereum',\n",
    "    description='Coin1:',\n",
    "    disabled=False,\n",
    ")\n",
    "choose_crypto2 = widgets.Dropdown(\n",
    "    options=sorted(list(prices_df_all['id'])),\n",
    "    value='litecoin',\n",
    "    description='Coin2:',\n",
    "    disabled=False,\n",
    ")"
   ]
  },
  {
   "cell_type": "code",
   "execution_count": null,
   "metadata": {
    "collapsed": true
   },
   "outputs": [],
   "source": [
    "def spread_chart_interactive(crypto_chosen1,crypto_chosen2):\n",
    "    \"\"\"\n",
    "    temp function to use for interactive plotting of spread chart\n",
    "    \"\"\"\n",
    "    coin_spread_df1 = get_historical_price_df(crypto_chosen1)\n",
    "    coin_spread_df1['return'] = coin_spread_df1['Close'].pct_change(-1)\n",
    "\n",
    "    coin_spread_df2 = get_historical_price_df(crypto_chosen2)\n",
    "    coin_spread_df2['return'] = coin_spread_df2['Close'].pct_change(-1)\n",
    "\n",
    "    return_spread_df = pd.concat([coin_spread_df1['return'], coin_spread_df2['return']], axis=1, keys=[crypto_chosen1, crypto_chosen2]).dropna()\n",
    "    \n",
    "    return_spread_df.iplot(kind='spread',xTitle='Dates',yTitle='Return',title='crypto returns Spread Chart',theme='solar')"
   ]
  },
  {
   "cell_type": "code",
   "execution_count": null,
   "metadata": {
    "collapsed": true
   },
   "outputs": [],
   "source": [
    "interact(spread_chart_interactive,crypto_chosen1=choose_crypto1,crypto_chosen2=choose_crypto2)"
   ]
  },
  {
   "cell_type": "code",
   "execution_count": null,
   "metadata": {
    "collapsed": true
   },
   "outputs": [],
   "source": [
    "choose_crypto_fit = widgets.Dropdown(\n",
    "    options=sorted(list(prices_df_all['id'])),\n",
    "    value='bitcoin',\n",
    "    description='Coin:',\n",
    "    disabled=False,\n",
    ")"
   ]
  },
  {
   "cell_type": "code",
   "execution_count": null,
   "metadata": {
    "collapsed": true
   },
   "outputs": [],
   "source": [
    "def best_fit_interactive(crypto_chosen_fit):\n",
    "    \"\"\"\n",
    "    temp function to use for interactive plotting of spread chart\n",
    "    \"\"\"\n",
    "    coin_spread_df1 = get_historical_price_df(crypto_chosen_fit)\n",
    "    coin_spread_df1['return'] = coin_spread_df1['Close'].pct_change(-1)\n",
    "    newdf = coin_spread_df1['return'].dropna()\n",
    "    newdf.iplot(kind='scatter',xTitle='Dates',yTitle='Returns',title='Daily Returns Besfit Line Chart',\n",
    "                         filename='Returns - bestline fit chart',bestfit=True,colors=['blue'],\n",
    "                         bestfit_colors=['pink'])\n",
    "    newdf.iplot(kind='histogram',opacity=.75,title='Daily Returns Distribution')"
   ]
  },
  {
   "cell_type": "code",
   "execution_count": null,
   "metadata": {
    "collapsed": true
   },
   "outputs": [],
   "source": [
    "interact(best_fit_interactive,crypto_chosen_fit=choose_crypto_fit)"
   ]
  },
  {
   "cell_type": "markdown",
   "metadata": {},
   "source": [
    "# Withdrawal History"
   ]
  },
  {
   "cell_type": "code",
   "execution_count": null,
   "metadata": {
    "ExecuteTime": {
     "end_time": "2017-12-21T16:25:59.298353Z",
     "start_time": "2017-12-21T16:25:59.017337Z"
    },
    "collapsed": true
   },
   "outputs": [],
   "source": [
    "pd.DataFrame(client.get_withdraw_history()['withdrawList'])\n"
   ]
  },
  {
   "cell_type": "markdown",
   "metadata": {},
   "source": [
    "# Deposit History"
   ]
  },
  {
   "cell_type": "code",
   "execution_count": null,
   "metadata": {
    "collapsed": true
   },
   "outputs": [],
   "source": [
    "pd.DataFrame(client.get_deposit_history()['depositList'])"
   ]
  },
  {
   "cell_type": "markdown",
   "metadata": {},
   "source": [
    "# Full Trade History"
   ]
  },
  {
   "cell_type": "code",
   "execution_count": null,
   "metadata": {
    "collapsed": true
   },
   "outputs": [],
   "source": [
    "def typecolumn(df):\n",
    "    \"\"\"\n",
    "    Simple helper function to create buy/sell column for trade history\n",
    "    \"\"\"\n",
    "    if df['isBuyer'] == True:\n",
    "        return 'Buy'\n",
    "    else:\n",
    "        return 'Sell'"
   ]
  },
  {
   "cell_type": "code",
   "execution_count": null,
   "metadata": {
    "ExecuteTime": {
     "end_time": "2017-12-21T20:53:43.530415Z",
     "start_time": "2017-12-21T20:53:43.485415Z"
    },
    "collapsed": true
   },
   "outputs": [],
   "source": [
    "def convert_timestamp(timestamp):\n",
    "    \n",
    "    \"\"\"\n",
    "    helper to convert strade history timestamp column\n",
    "    \"\"\"\n",
    "    if type(timestamp) == int:\n",
    "        string_timestamp = str(timestamp)[:-3]\n",
    "    else:\n",
    "        string_timestamp = str(timestamp)[:-2]\n",
    "        \n",
    "    converted_timestamp = datetime.fromtimestamp(int(string_timestamp)).strftime('%Y-%m-%d %H:%M:%S')\n",
    "    \n",
    "    return converted_timestamp\n",
    "\n",
    "convert_timestamp(1513289000001)"
   ]
  },
  {
   "cell_type": "code",
   "execution_count": null,
   "metadata": {
    "collapsed": true
   },
   "outputs": [],
   "source": [
    "#this cell gets your entire trade history\n",
    "full_trades_df = []\n",
    "#gets all possible tickers from binance\n",
    "all_tickers = pd.DataFrame(client.get_all_tickers())\n",
    "\n",
    "for i in all_tickers['symbol'].values:\n",
    "    trades_df = pd.DataFrame(pd.DataFrame(client.get_my_trades(symbol=i)))\n",
    "    trades_df['symbol'] = i\n",
    "    full_trades_df.append(trades_df)\n",
    "    \n",
    "trade_history_df = pd.concat(full_trades_df)\n",
    "trade_history_df['Type'] = trade_history_df.apply(typecolumn, axis=1)\n",
    "#convert timestamp column to readable format\n",
    "trade_history_df['time'] = pd.to_datetime(trade_history_df['time'], unit='ms')\n",
    "trade_history_df = trade_history_df.sort_values(by='time',ascending=False)"
   ]
  },
  {
   "cell_type": "code",
   "execution_count": null,
   "metadata": {
    "ExecuteTime": {
     "end_time": "2017-12-21T21:07:40.592496Z",
     "start_time": "2017-12-21T21:06:59.120415Z"
    },
    "collapsed": true,
    "scrolled": true
   },
   "outputs": [],
   "source": [
    "trade_history_df"
   ]
  }
 ],
 "metadata": {
  "extensions": {
   "jupyter_dashboards": {
    "activeView": "grid_default",
    "version": 1,
    "views": {
     "grid_default": {
      "cellMargin": 10,
      "defaultCellHeight": 20,
      "maxColumns": 12,
      "name": "grid",
      "type": "grid"
     },
     "report_default": {
      "name": "report",
      "type": "report"
     }
    }
   }
  },
  "hide_input": false,
  "kernelspec": {
   "display_name": "Python 3",
   "language": "python",
   "name": "python3"
  },
  "language_info": {
   "codemirror_mode": {
    "name": "ipython",
    "version": 3
   },
   "file_extension": ".py",
   "mimetype": "text/x-python",
   "name": "python",
   "nbconvert_exporter": "python",
   "pygments_lexer": "ipython3",
   "version": "3.6.3"
  },
  "varInspector": {
   "cols": {
    "lenName": 16,
    "lenType": 16,
    "lenVar": 40
   },
   "kernels_config": {
    "python": {
     "delete_cmd_postfix": "",
     "delete_cmd_prefix": "del ",
     "library": "var_list.py",
     "varRefreshCmd": "print(var_dic_list())"
    },
    "r": {
     "delete_cmd_postfix": ") ",
     "delete_cmd_prefix": "rm(",
     "library": "var_list.r",
     "varRefreshCmd": "cat(var_dic_list()) "
    }
   },
   "types_to_exclude": [
    "module",
    "function",
    "builtin_function_or_method",
    "instance",
    "_Feature"
   ],
   "window_display": false
  }
 },
 "nbformat": 4,
 "nbformat_minor": 2
}
