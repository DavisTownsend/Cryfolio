{
 "cells": [
  {
   "cell_type": "code",
   "execution_count": 4,
   "metadata": {
    "ExecuteTime": {
     "end_time": "2017-08-25T14:21:26.973145Z",
     "start_time": "2017-08-25T14:21:26.965662Z"
    },
    "collapsed": true,
    "init_cell": true
   },
   "outputs": [],
   "source": [
    "#Cell to initialize all libraries\n",
    "from __future__ import print_function\n",
    "from ipywidgets import interact, interactive, fixed, interact_manual, Layout, HBox, Label, VBox, Box\n",
    "import ipywidgets as widgets\n",
    "import os\n",
    "\n",
    "from IPython.display import display, clear_output, Image"
   ]
  },
  {
   "cell_type": "code",
   "execution_count": 5,
   "metadata": {
    "ExecuteTime": {
     "end_time": "2017-08-25T14:21:27.024681Z",
     "start_time": "2017-08-25T14:21:26.975646Z"
    },
    "collapsed": true,
    "init_cell": true
   },
   "outputs": [],
   "source": [
    "#Input Date Widget for input date in Vendor Rollup Class\n",
    "input_date = widgets.DatePicker(\n",
    "    description='Pick a Date:',\n",
    ")\n",
    "\n",
    "#FY Widget\n",
    "Fiscal_Year_choice = widgets.Dropdown(\n",
    "    options=['17','18','19','20','21','22','23','24','25','26','27','28','29','30'],\n",
    "    value='17',\n",
    "    description='Choose Fiscal Year:',\n",
    "    disabled=False,\n",
    "    button_style='' # 'success', 'info', 'warning', 'danger' or ''\n",
    ")\n",
    "\n",
    "#Scenario Widget\n",
    "Scenario_choice = widgets.Dropdown(\n",
    "    options=['Plan','January','April','July','October'],\n",
    "    value='Plan',\n",
    "    description='Choose Scenario:',\n",
    "    disabled=False,\n",
    "    button_style='' # 'success', 'info', 'warning', 'danger' or ''\n",
    ")\n",
    "\n",
    "Ad_Hoc_Choice = widgets.Checkbox(\n",
    "    description='Ad Hoc (check if yes):',\n",
    "    disabled=False,\n",
    ")"
   ]
  },
  {
   "cell_type": "code",
   "execution_count": 6,
   "metadata": {
    "ExecuteTime": {
     "end_time": "2017-08-25T14:21:27.052725Z",
     "start_time": "2017-08-25T14:21:27.026707Z"
    },
    "init_cell": true
   },
   "outputs": [
    {
     "data": {
      "application/vnd.jupyter.widget-view+json": {
       "model_id": "94793a91baa74e6ab3e7950abd92235e"
      }
     },
     "metadata": {},
     "output_type": "display_data"
    }
   ],
   "source": [
    "accordion = widgets.Accordion(children=[input_date, Fiscal_Year_choice,Scenario_choice,Ad_Hoc_Choice])\n",
    "\n",
    "accordion.set_title(0, 'Choose Starting Date')\n",
    "accordion.set_title(1, 'Choose Fiscal Year')\n",
    "accordion.set_title(2, 'Choose Scenario')\n",
    "accordion.set_title(3, 'Is this an ad hoc Rollup?')\n",
    "\n",
    "display(accordion)"
   ]
  }
 ],
 "metadata": {
  "celltoolbar": "Initialization Cell",
  "hide_input": false,
  "kernelspec": {
   "display_name": "Python 3",
   "language": "python",
   "name": "python3"
  },
  "language_info": {
   "codemirror_mode": {
    "name": "ipython",
    "version": 3
   },
   "file_extension": ".py",
   "mimetype": "text/x-python",
   "name": "python",
   "nbconvert_exporter": "python",
   "pygments_lexer": "ipython3",
   "version": "3.6.1"
  },
  "varInspector": {
   "cols": {
    "lenName": 16,
    "lenType": 16,
    "lenVar": 40
   },
   "kernels_config": {
    "python": {
     "delete_cmd_postfix": "",
     "delete_cmd_prefix": "del ",
     "library": "var_list.py",
     "varRefreshCmd": "print(var_dic_list())"
    },
    "r": {
     "delete_cmd_postfix": ") ",
     "delete_cmd_prefix": "rm(",
     "library": "var_list.r",
     "varRefreshCmd": "cat(var_dic_list()) "
    }
   },
   "types_to_exclude": [
    "module",
    "function",
    "builtin_function_or_method",
    "instance",
    "_Feature"
   ],
   "window_display": false
  },
  "widgets": {
   "application/vnd.jupyter.widget-state+json": {
    "state": {
     "1379310e9ee04b4ca501271e594d17c0": {
      "model_module": "jupyter-js-widgets",
      "model_module_version": "~2.1.4",
      "model_name": "DropdownModel",
      "state": {
       "_model_module_version": "~2.1.4",
       "_options_labels": [
        "17",
        "18",
        "19",
        "20",
        "21",
        "22",
        "23",
        "24",
        "25",
        "26",
        "27",
        "28",
        "29",
        "30"
       ],
       "_view_module_version": "~2.1.4",
       "description": "Choose Fiscal Year:",
       "layout": "IPY_MODEL_8f967ef8a9234a38a9e3c946893b2a0c",
       "value": "17"
      }
     },
     "26a925bec60b471ead12421ebcdd93d0": {
      "model_module": "jupyter-js-widgets",
      "model_module_version": "~2.1.4",
      "model_name": "LayoutModel",
      "state": {
       "_model_module_version": "~2.1.4",
       "_view_module_version": "~2.1.4"
      }
     },
     "26ea1bc16ac4470fb4c1b780eb9a5df0": {
      "model_module": "jupyter-js-widgets",
      "model_module_version": "~2.1.4",
      "model_name": "DropdownModel",
      "state": {
       "_model_module_version": "~2.1.4",
       "_options_labels": [
        "Plan",
        "January",
        "April",
        "July",
        "October"
       ],
       "_view_module_version": "~2.1.4",
       "description": "Choose Scenario:",
       "layout": "IPY_MODEL_ae99a2e717444201ac111dd427a3c5ac",
       "value": "Plan"
      }
     },
     "28e9545a4a35458780527045e06faa19": {
      "model_module": "jupyter-js-widgets",
      "model_module_version": "~2.1.4",
      "model_name": "DropdownModel",
      "state": {
       "_model_module_version": "~2.1.4",
       "_options_labels": [
        "Plan",
        "January",
        "April",
        "July",
        "October"
       ],
       "_view_module_version": "~2.1.4",
       "description": "Choose Scenario:",
       "layout": "IPY_MODEL_63d5afbc81be438ba2274a5ad27a1b83",
       "value": "Plan"
      }
     },
     "2e7fb0c1968c42af94a53c982fc5e954": {
      "model_module": "jupyter-js-widgets",
      "model_module_version": "~2.1.4",
      "model_name": "DatePickerModel",
      "state": {
       "_model_module_version": "~2.1.4",
       "_view_module_version": "~2.1.4",
       "description": "Pick a Date:",
       "layout": "IPY_MODEL_38f1b90dcdd64eaa9942ef075d1c23db"
      }
     },
     "32285e442dc04978a661258ec1341cff": {
      "model_module": "jupyter-js-widgets",
      "model_module_version": "~2.1.4",
      "model_name": "DropdownModel",
      "state": {
       "_model_module_version": "~2.1.4",
       "_options_labels": [
        "Plan",
        "January",
        "April",
        "July",
        "October"
       ],
       "_view_module_version": "~2.1.4",
       "description": "Choose Scenario:",
       "layout": "IPY_MODEL_8af4d5db0a7b49af8e02f7f2896e1e6d",
       "value": "Plan"
      }
     },
     "351c7d7bf6ef493a8f797c39a12206fc": {
      "model_module": "jupyter-js-widgets",
      "model_module_version": "~2.1.4",
      "model_name": "AccordionModel",
      "state": {
       "_model_module_version": "~2.1.4",
       "_titles": {
        "0": "Choose Starting Date",
        "1": "Choose Fiscal Year",
        "2": "Choose Scenario",
        "3": "Is this an ad hoc Rollup?"
       },
       "_view_module_version": "~2.1.4",
       "children": [
        "IPY_MODEL_2e7fb0c1968c42af94a53c982fc5e954",
        "IPY_MODEL_754945fd5c29484dbc612326047b4d23",
        "IPY_MODEL_32285e442dc04978a661258ec1341cff",
        "IPY_MODEL_b74bd2f64db84ed39d6e8c61dee60f33"
       ],
       "layout": "IPY_MODEL_e0a594d6eab242eb9d1d49e3fec1b794"
      }
     },
     "38f1b90dcdd64eaa9942ef075d1c23db": {
      "model_module": "jupyter-js-widgets",
      "model_module_version": "~2.1.4",
      "model_name": "LayoutModel",
      "state": {
       "_model_module_version": "~2.1.4",
       "_view_module_version": "~2.1.4"
      }
     },
     "3e32250b3bf741a696f7f2375337f2d6": {
      "model_module": "jupyter-js-widgets",
      "model_module_version": "~2.1.4",
      "model_name": "LayoutModel",
      "state": {
       "_model_module_version": "~2.1.4",
       "_view_module_version": "~2.1.4"
      }
     },
     "4b19eb091be04c9daf7fb11b51fc73e7": {
      "model_module": "jupyter-js-widgets",
      "model_module_version": "~2.1.4",
      "model_name": "LayoutModel",
      "state": {
       "_model_module_version": "~2.1.4",
       "_view_module_version": "~2.1.4"
      }
     },
     "4c35d2b352d34af7855a920f6093e35a": {
      "model_module": "jupyter-js-widgets",
      "model_module_version": "~2.1.4",
      "model_name": "CheckboxModel",
      "state": {
       "_model_module_version": "~2.1.4",
       "_view_module_version": "~2.1.4",
       "description": "Ad Hoc (check if yes):",
       "disabled": false,
       "layout": "IPY_MODEL_6f089c1c6d0f4e3aac1582929045d99b",
       "value": false
      }
     },
     "4c8741b5461b452798e201e18612801b": {
      "model_module": "jupyter-js-widgets",
      "model_module_version": "~2.1.4",
      "model_name": "LayoutModel",
      "state": {
       "_model_module_version": "~2.1.4",
       "_view_module_version": "~2.1.4"
      }
     },
     "4fbdc6be8dff4c5dac27fb4d4fa42e73": {
      "model_module": "jupyter-js-widgets",
      "model_module_version": "~2.1.4",
      "model_name": "LayoutModel",
      "state": {
       "_model_module_version": "~2.1.4",
       "_view_module_version": "~2.1.4"
      }
     },
     "523ecf49e363441d8a9169d4acdc2ba7": {
      "model_module": "jupyter-js-widgets",
      "model_module_version": "~2.1.4",
      "model_name": "DatePickerModel",
      "state": {
       "_model_module_version": "~2.1.4",
       "_view_module_version": "~2.1.4",
       "description": "Pick a Date:",
       "layout": "IPY_MODEL_4fbdc6be8dff4c5dac27fb4d4fa42e73"
      }
     },
     "61ed3900965a464db552d6b2e4654a3c": {
      "model_module": "jupyter-js-widgets",
      "model_module_version": "~2.1.4",
      "model_name": "LayoutModel",
      "state": {
       "_model_module_version": "~2.1.4",
       "_view_module_version": "~2.1.4"
      }
     },
     "63d5afbc81be438ba2274a5ad27a1b83": {
      "model_module": "jupyter-js-widgets",
      "model_module_version": "~2.1.4",
      "model_name": "LayoutModel",
      "state": {
       "_model_module_version": "~2.1.4",
       "_view_module_version": "~2.1.4"
      }
     },
     "648f138e6ea74f10ac1980aa7f869d53": {
      "model_module": "jupyter-js-widgets",
      "model_module_version": "~2.1.4",
      "model_name": "DropdownModel",
      "state": {
       "_model_module_version": "~2.1.4",
       "_options_labels": [
        "17",
        "18",
        "19",
        "20",
        "21",
        "22",
        "23",
        "24",
        "25",
        "26",
        "27",
        "28",
        "29",
        "30"
       ],
       "_view_module_version": "~2.1.4",
       "description": "Choose Fiscal Year:",
       "layout": "IPY_MODEL_4c8741b5461b452798e201e18612801b",
       "value": "17"
      }
     },
     "6c870bb06e62451786dbdfa70d07a38b": {
      "model_module": "jupyter-js-widgets",
      "model_module_version": "~2.1.4",
      "model_name": "DropdownModel",
      "state": {
       "_model_module_version": "~2.1.4",
       "_options_labels": [
        "Plan",
        "January",
        "April",
        "July",
        "October"
       ],
       "_view_module_version": "~2.1.4",
       "description": "Choose Scenario:",
       "layout": "IPY_MODEL_fd58013307c14f70aaf8d4038f367c85",
       "value": "Plan"
      }
     },
     "6ead027a11144b42b833e16f43435570": {
      "model_module": "jupyter-js-widgets",
      "model_module_version": "~2.1.4",
      "model_name": "LayoutModel",
      "state": {
       "_model_module_version": "~2.1.4",
       "_view_module_version": "~2.1.4"
      }
     },
     "6eb832875c4843358475550051ea1c25": {
      "model_module": "jupyter-js-widgets",
      "model_module_version": "~2.1.4",
      "model_name": "LayoutModel",
      "state": {
       "_model_module_version": "~2.1.4",
       "_view_module_version": "~2.1.4"
      }
     },
     "6f089c1c6d0f4e3aac1582929045d99b": {
      "model_module": "jupyter-js-widgets",
      "model_module_version": "~2.1.4",
      "model_name": "LayoutModel",
      "state": {
       "_model_module_version": "~2.1.4",
       "_view_module_version": "~2.1.4"
      }
     },
     "754945fd5c29484dbc612326047b4d23": {
      "model_module": "jupyter-js-widgets",
      "model_module_version": "~2.1.4",
      "model_name": "DropdownModel",
      "state": {
       "_model_module_version": "~2.1.4",
       "_options_labels": [
        "17",
        "18",
        "19",
        "20",
        "21",
        "22",
        "23",
        "24",
        "25",
        "26",
        "27",
        "28",
        "29",
        "30"
       ],
       "_view_module_version": "~2.1.4",
       "description": "Choose Fiscal Year:",
       "layout": "IPY_MODEL_c7a4be49006f44abbdcc1169805a29ce",
       "value": "17"
      }
     },
     "7e16dfc2c0ae4c488e86606e98a681b5": {
      "model_module": "jupyter-js-widgets",
      "model_module_version": "~2.1.4",
      "model_name": "LayoutModel",
      "state": {
       "_model_module_version": "~2.1.4",
       "_view_module_version": "~2.1.4"
      }
     },
     "8af4d5db0a7b49af8e02f7f2896e1e6d": {
      "model_module": "jupyter-js-widgets",
      "model_module_version": "~2.1.4",
      "model_name": "LayoutModel",
      "state": {
       "_model_module_version": "~2.1.4",
       "_view_module_version": "~2.1.4"
      }
     },
     "8f34a561fa3f458a84c25d1e01072dd3": {
      "model_module": "jupyter-js-widgets",
      "model_module_version": "~2.1.4",
      "model_name": "DropdownModel",
      "state": {
       "_model_module_version": "~2.1.4",
       "_options_labels": [
        "17",
        "18",
        "19",
        "20",
        "21",
        "22",
        "23",
        "24",
        "25",
        "26",
        "27",
        "28",
        "29",
        "30"
       ],
       "_view_module_version": "~2.1.4",
       "description": "Choose Fiscal Year:",
       "layout": "IPY_MODEL_92a8b77c288c4c42afdda8b80d91cb43",
       "value": "17"
      }
     },
     "8f967ef8a9234a38a9e3c946893b2a0c": {
      "model_module": "jupyter-js-widgets",
      "model_module_version": "~2.1.4",
      "model_name": "LayoutModel",
      "state": {
       "_model_module_version": "~2.1.4",
       "_view_module_version": "~2.1.4"
      }
     },
     "92a8b77c288c4c42afdda8b80d91cb43": {
      "model_module": "jupyter-js-widgets",
      "model_module_version": "~2.1.4",
      "model_name": "LayoutModel",
      "state": {
       "_model_module_version": "~2.1.4",
       "_view_module_version": "~2.1.4"
      }
     },
     "94793a91baa74e6ab3e7950abd92235e": {
      "model_module": "jupyter-js-widgets",
      "model_module_version": "~2.1.4",
      "model_name": "AccordionModel",
      "state": {
       "_model_module_version": "~2.1.4",
       "_titles": {
        "0": "Choose Starting Date",
        "1": "Choose Fiscal Year",
        "2": "Choose Scenario",
        "3": "Is this an ad hoc Rollup?"
       },
       "_view_module_version": "~2.1.4",
       "children": [
        "IPY_MODEL_523ecf49e363441d8a9169d4acdc2ba7",
        "IPY_MODEL_648f138e6ea74f10ac1980aa7f869d53",
        "IPY_MODEL_28e9545a4a35458780527045e06faa19",
        "IPY_MODEL_ce6efe4a5c1046b69b565fe5bfe25460"
       ],
       "layout": "IPY_MODEL_b4f3f6449dde4dc7b1e14f21288d294c"
      }
     },
     "9a6c37bd0c6a428388eee5855aaac4d1": {
      "model_module": "jupyter-js-widgets",
      "model_module_version": "~2.1.4",
      "model_name": "DropdownModel",
      "state": {
       "_model_module_version": "~2.1.4",
       "_options_labels": [
        "Plan",
        "January",
        "April",
        "July",
        "October"
       ],
       "_view_module_version": "~2.1.4",
       "description": "Choose Scenario:",
       "layout": "IPY_MODEL_d2985c544f8c4be9a92a48d3f8aa3b76",
       "value": "Plan"
      }
     },
     "a5f34ae0d07e459193347795a7c5f265": {
      "model_module": "jupyter-js-widgets",
      "model_module_version": "~2.1.4",
      "model_name": "DatePickerModel",
      "state": {
       "_model_module_version": "~2.1.4",
       "_view_module_version": "~2.1.4",
       "description": "Pick a Date:",
       "layout": "IPY_MODEL_61ed3900965a464db552d6b2e4654a3c"
      }
     },
     "ae99a2e717444201ac111dd427a3c5ac": {
      "model_module": "jupyter-js-widgets",
      "model_module_version": "~2.1.4",
      "model_name": "LayoutModel",
      "state": {
       "_model_module_version": "~2.1.4",
       "_view_module_version": "~2.1.4"
      }
     },
     "b4f3f6449dde4dc7b1e14f21288d294c": {
      "model_module": "jupyter-js-widgets",
      "model_module_version": "~2.1.4",
      "model_name": "LayoutModel",
      "state": {
       "_model_module_version": "~2.1.4",
       "_view_module_version": "~2.1.4"
      }
     },
     "b52152df3b1245dcaf351ae81f58a9bc": {
      "model_module": "jupyter-js-widgets",
      "model_module_version": "~2.1.4",
      "model_name": "LayoutModel",
      "state": {
       "_model_module_version": "~2.1.4",
       "_view_module_version": "~2.1.4"
      }
     },
     "b709fe22368c4e6da300bb867695d07a": {
      "model_module": "jupyter-js-widgets",
      "model_module_version": "~2.1.4",
      "model_name": "CheckboxModel",
      "state": {
       "_model_module_version": "~2.1.4",
       "_view_module_version": "~2.1.4",
       "description": "Ad Hoc (check if yes):",
       "disabled": false,
       "layout": "IPY_MODEL_7e16dfc2c0ae4c488e86606e98a681b5",
       "value": false
      }
     },
     "b74bd2f64db84ed39d6e8c61dee60f33": {
      "model_module": "jupyter-js-widgets",
      "model_module_version": "~2.1.4",
      "model_name": "CheckboxModel",
      "state": {
       "_model_module_version": "~2.1.4",
       "_view_module_version": "~2.1.4",
       "description": "Ad Hoc (check if yes):",
       "disabled": false,
       "layout": "IPY_MODEL_c68fd663339e434fa9ff1ee1d9dfe6ef",
       "value": false
      }
     },
     "c68fd663339e434fa9ff1ee1d9dfe6ef": {
      "model_module": "jupyter-js-widgets",
      "model_module_version": "~2.1.4",
      "model_name": "LayoutModel",
      "state": {
       "_model_module_version": "~2.1.4",
       "_view_module_version": "~2.1.4"
      }
     },
     "c7a4be49006f44abbdcc1169805a29ce": {
      "model_module": "jupyter-js-widgets",
      "model_module_version": "~2.1.4",
      "model_name": "LayoutModel",
      "state": {
       "_model_module_version": "~2.1.4",
       "_view_module_version": "~2.1.4"
      }
     },
     "ce1b3d3eca5d4eec84caa2a270428aee": {
      "model_module": "jupyter-js-widgets",
      "model_module_version": "~2.1.4",
      "model_name": "LayoutModel",
      "state": {
       "_model_module_version": "~2.1.4",
       "_view_module_version": "~2.1.4"
      }
     },
     "ce6efe4a5c1046b69b565fe5bfe25460": {
      "model_module": "jupyter-js-widgets",
      "model_module_version": "~2.1.4",
      "model_name": "CheckboxModel",
      "state": {
       "_model_module_version": "~2.1.4",
       "_view_module_version": "~2.1.4",
       "description": "Ad Hoc (check if yes):",
       "disabled": false,
       "layout": "IPY_MODEL_e710e26e386247e4ab5d56903b4a84b2",
       "value": false
      }
     },
     "cf3af378bd0b4bcb80db1a758e33e9a6": {
      "model_module": "jupyter-js-widgets",
      "model_module_version": "~2.1.4",
      "model_name": "AccordionModel",
      "state": {
       "_model_module_version": "~2.1.4",
       "_titles": {
        "0": "Choose Starting Date",
        "1": "Choose Fiscal Year",
        "2": "Choose Scenario",
        "3": "Is this an ad hoc Rollup?"
       },
       "_view_module_version": "~2.1.4",
       "children": [
        "IPY_MODEL_a5f34ae0d07e459193347795a7c5f265",
        "IPY_MODEL_8f34a561fa3f458a84c25d1e01072dd3",
        "IPY_MODEL_9a6c37bd0c6a428388eee5855aaac4d1",
        "IPY_MODEL_b709fe22368c4e6da300bb867695d07a"
       ],
       "layout": "IPY_MODEL_26a925bec60b471ead12421ebcdd93d0"
      }
     },
     "d2985c544f8c4be9a92a48d3f8aa3b76": {
      "model_module": "jupyter-js-widgets",
      "model_module_version": "~2.1.4",
      "model_name": "LayoutModel",
      "state": {
       "_model_module_version": "~2.1.4",
       "_view_module_version": "~2.1.4"
      }
     },
     "d819f0feaede4c13b03517dc0a0b6bb3": {
      "model_module": "jupyter-js-widgets",
      "model_module_version": "~2.1.4",
      "model_name": "DatePickerModel",
      "state": {
       "_model_module_version": "~2.1.4",
       "_view_module_version": "~2.1.4",
       "description": "Pick a Date:",
       "layout": "IPY_MODEL_4b19eb091be04c9daf7fb11b51fc73e7"
      }
     },
     "dd5f7caf6c4d4bfbaadfba4dec1148b8": {
      "model_module": "jupyter-js-widgets",
      "model_module_version": "~2.1.4",
      "model_name": "AccordionModel",
      "state": {
       "_model_module_version": "~2.1.4",
       "_titles": {
        "0": "Choose Starting Date",
        "1": "Choose Fiscal Year",
        "2": "Choose Scenario",
        "3": "Is this an ad hoc Rollup?"
       },
       "_view_module_version": "~2.1.4",
       "children": [
        "IPY_MODEL_e1215ca58f9b4b01ab0e29ad7199bd40",
        "IPY_MODEL_f246ec85156d4b35b74015c62f696924",
        "IPY_MODEL_26ea1bc16ac4470fb4c1b780eb9a5df0",
        "IPY_MODEL_df9096e9df5645198a9f1911f3e0be7f"
       ],
       "layout": "IPY_MODEL_6eb832875c4843358475550051ea1c25"
      }
     },
     "df9096e9df5645198a9f1911f3e0be7f": {
      "model_module": "jupyter-js-widgets",
      "model_module_version": "~2.1.4",
      "model_name": "CheckboxModel",
      "state": {
       "_model_module_version": "~2.1.4",
       "_view_module_version": "~2.1.4",
       "description": "Ad Hoc (check if yes):",
       "disabled": false,
       "layout": "IPY_MODEL_b52152df3b1245dcaf351ae81f58a9bc",
       "value": false
      }
     },
     "e06b2ae9255e4fb6847ad255b9e7ca5e": {
      "model_module": "jupyter-js-widgets",
      "model_module_version": "~2.1.4",
      "model_name": "LayoutModel",
      "state": {
       "_model_module_version": "~2.1.4",
       "_view_module_version": "~2.1.4"
      }
     },
     "e0a594d6eab242eb9d1d49e3fec1b794": {
      "model_module": "jupyter-js-widgets",
      "model_module_version": "~2.1.4",
      "model_name": "LayoutModel",
      "state": {
       "_model_module_version": "~2.1.4",
       "_view_module_version": "~2.1.4"
      }
     },
     "e1215ca58f9b4b01ab0e29ad7199bd40": {
      "model_module": "jupyter-js-widgets",
      "model_module_version": "~2.1.4",
      "model_name": "DatePickerModel",
      "state": {
       "_model_module_version": "~2.1.4",
       "_view_module_version": "~2.1.4",
       "description": "Pick a Date:",
       "layout": "IPY_MODEL_e06b2ae9255e4fb6847ad255b9e7ca5e"
      }
     },
     "e710e26e386247e4ab5d56903b4a84b2": {
      "model_module": "jupyter-js-widgets",
      "model_module_version": "~2.1.4",
      "model_name": "LayoutModel",
      "state": {
       "_model_module_version": "~2.1.4",
       "_view_module_version": "~2.1.4"
      }
     },
     "e8a09811a38741dc9093457c4594a072": {
      "model_module": "jupyter-js-widgets",
      "model_module_version": "~2.1.4",
      "model_name": "AccordionModel",
      "state": {
       "_model_module_version": "~2.1.4",
       "_titles": {
        "0": "Choose Starting Date",
        "1": "Choose Fiscal Year",
        "2": "Choose Scenario",
        "3": "Is this an ad hoc Rollup?"
       },
       "_view_module_version": "~2.1.4",
       "children": [
        "IPY_MODEL_d819f0feaede4c13b03517dc0a0b6bb3",
        "IPY_MODEL_1379310e9ee04b4ca501271e594d17c0",
        "IPY_MODEL_6c870bb06e62451786dbdfa70d07a38b",
        "IPY_MODEL_4c35d2b352d34af7855a920f6093e35a"
       ],
       "layout": "IPY_MODEL_ce1b3d3eca5d4eec84caa2a270428aee"
      }
     },
     "f246ec85156d4b35b74015c62f696924": {
      "model_module": "jupyter-js-widgets",
      "model_module_version": "~2.1.4",
      "model_name": "DropdownModel",
      "state": {
       "_model_module_version": "~2.1.4",
       "_options_labels": [
        "17",
        "18",
        "19",
        "20",
        "21",
        "22",
        "23",
        "24",
        "25",
        "26",
        "27",
        "28",
        "29",
        "30"
       ],
       "_view_module_version": "~2.1.4",
       "description": "Choose Fiscal Year:",
       "layout": "IPY_MODEL_6ead027a11144b42b833e16f43435570",
       "value": "17"
      }
     },
     "f29e10fd0ec94c4fbe58796e425dc132": {
      "model_module": "jupyter-js-widgets",
      "model_module_version": "~2.1.4",
      "model_name": "AccordionModel",
      "state": {
       "_model_module_version": "~2.1.4",
       "_titles": {
        "0": "Choose Starting Date",
        "1": "Choose Fiscal Year",
        "2": "Choose Scenario",
        "3": "Is this an ad hoc Rollup?"
       },
       "_view_module_version": "~2.1.4",
       "children": [
        "IPY_MODEL_d819f0feaede4c13b03517dc0a0b6bb3",
        "IPY_MODEL_1379310e9ee04b4ca501271e594d17c0",
        "IPY_MODEL_6c870bb06e62451786dbdfa70d07a38b",
        "IPY_MODEL_4c35d2b352d34af7855a920f6093e35a"
       ],
       "layout": "IPY_MODEL_3e32250b3bf741a696f7f2375337f2d6"
      }
     },
     "fd58013307c14f70aaf8d4038f367c85": {
      "model_module": "jupyter-js-widgets",
      "model_module_version": "~2.1.4",
      "model_name": "LayoutModel",
      "state": {
       "_model_module_version": "~2.1.4",
       "_view_module_version": "~2.1.4"
      }
     }
    },
    "version_major": 1,
    "version_minor": 0
   }
  }
 },
 "nbformat": 4,
 "nbformat_minor": 2
}
