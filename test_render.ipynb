{
 "cells": [
  {
   "cell_type": "code",
   "execution_count": null,
   "metadata": {
    "collapsed": true
   },
   "outputs": [],
   "source": [
    "import pandas as pd\n",
    "from numpy import pi\n",
    "import numpy as np\n",
    "import holoviews as hv\n",
    "from coinmarketcap import Market\n",
    "import time\n",
    "\n",
    "\n",
    "from random import shuffle\n",
    "from math import sin,cos\n",
    "from bokeh.plotting import ColumnDataSource,output_notebook,figure, show\n",
    "from bokeh.models import HoverTool,Text\n",
    "from bokeh import palettes\n",
    "import ipywidgets as widgets\n",
    "\n",
    "output_notebook()\n",
    "hv.extension('bokeh')\n",
    "\n",
    "from binance.client import Client"
   ]
  },
  {
   "cell_type": "code",
   "execution_count": null,
   "metadata": {
    "collapsed": true
   },
   "outputs": [],
   "source": [
    "api_key = ''\n",
    "api_secret = ''"
   ]
  },
  {
   "cell_type": "code",
   "execution_count": null,
   "metadata": {
    "collapsed": true
   },
   "outputs": [],
   "source": [
    "import time\n",
    "from binance.client import Client\n",
    "client = Client(api_key, api_secret)\n",
    "int(time.time() * 1000) - client.get_server_time()['serverTime']"
   ]
  },
  {
   "cell_type": "code",
   "execution_count": null,
   "metadata": {
    "collapsed": true
   },
   "outputs": [],
   "source": [
    "#get account coin balances\n",
    "order = client.get_account()\n",
    "#convert list of dictionaries to pandas df\n",
    "coin_df = pd.DataFrame(order['balances'])\n",
    "#convert free and locked columns to numeric\n",
    "coin_df[['free','locked']] = coin_df[['free','locked']].apply(pd.to_numeric)\n",
    "#drop rows where all columns are less than or equal to 0\n",
    "coin_df = coin_df.loc[~(coin_df<=0.0).all(axis=1)]\n",
    "#add Total column to dataframe\n",
    "coin_df['Total'] = coin_df['free'] + coin_df['locked']\n",
    "#replace IOTA with MIOTA so that symbols match\n",
    "coin_df.loc[coin_df.asset == 'IOTA', 'asset'] = 'MIOTA'\n",
    "coin_df"
   ]
  }
 ],
 "metadata": {
  "kernelspec": {
   "display_name": "Python 3",
   "language": "python",
   "name": "python3"
  },
  "language_info": {
   "codemirror_mode": {
    "name": "ipython",
    "version": 3
   },
   "file_extension": ".py",
   "mimetype": "text/x-python",
   "name": "python",
   "nbconvert_exporter": "python",
   "pygments_lexer": "ipython3",
   "version": "3.6.3"
  }
 },
 "nbformat": 4,
 "nbformat_minor": 2
}
