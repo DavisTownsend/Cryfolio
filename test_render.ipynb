{
 "cells": [
  {
   "cell_type": "code",
   "execution_count": null,
   "metadata": {
    "collapsed": true
   },
   "outputs": [],
   "source": [
    "import pandas as pd\n",
    "from numpy import pi\n",
    "import numpy as np\n",
    "import holoviews as hv\n",
    "from coinmarketcap import Market\n",
    "import time\n",
    "\n",
    "\n",
    "from random import shuffle\n",
    "from math import sin,cos\n",
    "from bokeh.plotting import ColumnDataSource,output_notebook,figure, show\n",
    "from bokeh.models import HoverTool,Text\n",
    "from bokeh import palettes\n",
    "import ipywidgets as widgets\n",
    "\n",
    "output_notebook()\n",
    "hv.extension('bokeh')\n",
    "\n",
    "from binance.client import Client"
   ]
  },
  {
   "cell_type": "code",
   "execution_count": null,
   "metadata": {
    "collapsed": true
   },
   "outputs": [],
   "source": [
    "widgets.IntSlider(\n",
    "    value=7,\n",
    "    min=0,\n",
    "    max=10,\n",
    "    step=1,\n",
    "    description='Test:',\n",
    "    disabled=False,\n",
    "    continuous_update=False,\n",
    "    orientation='horizontal',\n",
    "    readout=True,\n",
    "    readout_format='i',\n",
    "    slider_color='white'\n",
    ")"
   ]
  }
 ],
 "metadata": {
  "kernelspec": {
   "display_name": "Python 3",
   "language": "python",
   "name": "python3"
  },
  "language_info": {
   "codemirror_mode": {
    "name": "ipython",
    "version": 3
   },
   "file_extension": ".py",
   "mimetype": "text/x-python",
   "name": "python",
   "nbconvert_exporter": "python",
   "pygments_lexer": "ipython3",
   "version": "3.6.3"
  }
 },
 "nbformat": 4,
 "nbformat_minor": 2
}
